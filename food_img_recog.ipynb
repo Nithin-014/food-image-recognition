{
 "cells": [
  {
   "cell_type": "markdown",
   "metadata": {
    "id": "AuK2taoMEkKu"
   },
   "source": [
    "## **Importing Dataset**\n"
   ]
  },
  {
   "cell_type": "code",
   "execution_count": 1,
   "metadata": {
    "colab": {
     "base_uri": "https://localhost:8080/"
    },
    "executionInfo": {
     "elapsed": 24133,
     "status": "ok",
     "timestamp": 1705816719337,
     "user": {
      "displayName": "NITHIN GOUD",
      "userId": "14723641495836732083"
     },
     "user_tz": -330
    },
    "id": "Pnw6Rp38EcUF",
    "outputId": "dc1ed525-69a9-442f-e07b-6f7d2385b49a"
   },
   "outputs": [
    {
     "name": "stdout",
     "output_type": "stream",
     "text": [
      "Requirement already satisfied: tensorflow in c:\\users\\nithi\\anaconda3\\lib\\site-packages (2.15.0)\n",
      "Requirement already satisfied: tensorflow-intel==2.15.0 in c:\\users\\nithi\\anaconda3\\lib\\site-packages (from tensorflow) (2.15.0)\n",
      "Requirement already satisfied: absl-py>=1.0.0 in c:\\users\\nithi\\anaconda3\\lib\\site-packages (from tensorflow-intel==2.15.0->tensorflow) (2.1.0)\n",
      "Requirement already satisfied: astunparse>=1.6.0 in c:\\users\\nithi\\anaconda3\\lib\\site-packages (from tensorflow-intel==2.15.0->tensorflow) (1.6.3)\n",
      "Requirement already satisfied: flatbuffers>=23.5.26 in c:\\users\\nithi\\anaconda3\\lib\\site-packages (from tensorflow-intel==2.15.0->tensorflow) (23.5.26)\n",
      "Requirement already satisfied: gast!=0.5.0,!=0.5.1,!=0.5.2,>=0.2.1 in c:\\users\\nithi\\anaconda3\\lib\\site-packages (from tensorflow-intel==2.15.0->tensorflow) (0.5.4)\n",
      "Requirement already satisfied: google-pasta>=0.1.1 in c:\\users\\nithi\\anaconda3\\lib\\site-packages (from tensorflow-intel==2.15.0->tensorflow) (0.2.0)\n",
      "Requirement already satisfied: h5py>=2.9.0 in c:\\users\\nithi\\anaconda3\\lib\\site-packages (from tensorflow-intel==2.15.0->tensorflow) (3.9.0)\n",
      "Requirement already satisfied: libclang>=13.0.0 in c:\\users\\nithi\\anaconda3\\lib\\site-packages (from tensorflow-intel==2.15.0->tensorflow) (16.0.6)\n",
      "Requirement already satisfied: ml-dtypes~=0.2.0 in c:\\users\\nithi\\anaconda3\\lib\\site-packages (from tensorflow-intel==2.15.0->tensorflow) (0.2.0)\n",
      "Requirement already satisfied: numpy<2.0.0,>=1.23.5 in c:\\users\\nithi\\anaconda3\\lib\\site-packages (from tensorflow-intel==2.15.0->tensorflow) (1.24.3)\n",
      "Requirement already satisfied: opt-einsum>=2.3.2 in c:\\users\\nithi\\anaconda3\\lib\\site-packages (from tensorflow-intel==2.15.0->tensorflow) (3.3.0)\n",
      "Requirement already satisfied: packaging in c:\\users\\nithi\\anaconda3\\lib\\site-packages (from tensorflow-intel==2.15.0->tensorflow) (23.1)\n",
      "Requirement already satisfied: protobuf!=4.21.0,!=4.21.1,!=4.21.2,!=4.21.3,!=4.21.4,!=4.21.5,<5.0.0dev,>=3.20.3 in c:\\users\\nithi\\anaconda3\\lib\\site-packages (from tensorflow-intel==2.15.0->tensorflow) (4.23.4)\n",
      "Requirement already satisfied: setuptools in c:\\users\\nithi\\anaconda3\\lib\\site-packages (from tensorflow-intel==2.15.0->tensorflow) (68.0.0)\n",
      "Requirement already satisfied: six>=1.12.0 in c:\\users\\nithi\\anaconda3\\lib\\site-packages (from tensorflow-intel==2.15.0->tensorflow) (1.16.0)\n",
      "Requirement already satisfied: termcolor>=1.1.0 in c:\\users\\nithi\\anaconda3\\lib\\site-packages (from tensorflow-intel==2.15.0->tensorflow) (2.4.0)\n",
      "Requirement already satisfied: typing-extensions>=3.6.6 in c:\\users\\nithi\\anaconda3\\lib\\site-packages (from tensorflow-intel==2.15.0->tensorflow) (4.7.1)\n",
      "Requirement already satisfied: wrapt<1.15,>=1.11.0 in c:\\users\\nithi\\anaconda3\\lib\\site-packages (from tensorflow-intel==2.15.0->tensorflow) (1.14.1)\n",
      "Requirement already satisfied: tensorflow-io-gcs-filesystem>=0.23.1 in c:\\users\\nithi\\anaconda3\\lib\\site-packages (from tensorflow-intel==2.15.0->tensorflow) (0.31.0)\n",
      "Requirement already satisfied: grpcio<2.0,>=1.24.3 in c:\\users\\nithi\\anaconda3\\lib\\site-packages (from tensorflow-intel==2.15.0->tensorflow) (1.60.0)\n",
      "Requirement already satisfied: tensorboard<2.16,>=2.15 in c:\\users\\nithi\\anaconda3\\lib\\site-packages (from tensorflow-intel==2.15.0->tensorflow) (2.15.1)\n",
      "Requirement already satisfied: tensorflow-estimator<2.16,>=2.15.0 in c:\\users\\nithi\\anaconda3\\lib\\site-packages (from tensorflow-intel==2.15.0->tensorflow) (2.15.0)\n",
      "Requirement already satisfied: keras<2.16,>=2.15.0 in c:\\users\\nithi\\anaconda3\\lib\\site-packages (from tensorflow-intel==2.15.0->tensorflow) (2.15.0)\n",
      "Requirement already satisfied: wheel<1.0,>=0.23.0 in c:\\users\\nithi\\anaconda3\\lib\\site-packages (from astunparse>=1.6.0->tensorflow-intel==2.15.0->tensorflow) (0.38.4)\n",
      "Requirement already satisfied: google-auth<3,>=1.6.3 in c:\\users\\nithi\\anaconda3\\lib\\site-packages (from tensorboard<2.16,>=2.15->tensorflow-intel==2.15.0->tensorflow) (2.27.0)\n",
      "Requirement already satisfied: google-auth-oauthlib<2,>=0.5 in c:\\users\\nithi\\anaconda3\\lib\\site-packages (from tensorboard<2.16,>=2.15->tensorflow-intel==2.15.0->tensorflow) (1.2.0)\n",
      "Requirement already satisfied: markdown>=2.6.8 in c:\\users\\nithi\\anaconda3\\lib\\site-packages (from tensorboard<2.16,>=2.15->tensorflow-intel==2.15.0->tensorflow) (3.4.1)\n",
      "Requirement already satisfied: requests<3,>=2.21.0 in c:\\users\\nithi\\anaconda3\\lib\\site-packages (from tensorboard<2.16,>=2.15->tensorflow-intel==2.15.0->tensorflow) (2.31.0)\n",
      "Requirement already satisfied: tensorboard-data-server<0.8.0,>=0.7.0 in c:\\users\\nithi\\anaconda3\\lib\\site-packages (from tensorboard<2.16,>=2.15->tensorflow-intel==2.15.0->tensorflow) (0.7.2)\n",
      "Requirement already satisfied: werkzeug>=1.0.1 in c:\\users\\nithi\\anaconda3\\lib\\site-packages (from tensorboard<2.16,>=2.15->tensorflow-intel==2.15.0->tensorflow) (2.2.3)\n",
      "Requirement already satisfied: cachetools<6.0,>=2.0.0 in c:\\users\\nithi\\anaconda3\\lib\\site-packages (from google-auth<3,>=1.6.3->tensorboard<2.16,>=2.15->tensorflow-intel==2.15.0->tensorflow) (5.3.2)\n",
      "Requirement already satisfied: pyasn1-modules>=0.2.1 in c:\\users\\nithi\\anaconda3\\lib\\site-packages (from google-auth<3,>=1.6.3->tensorboard<2.16,>=2.15->tensorflow-intel==2.15.0->tensorflow) (0.2.8)\n",
      "Requirement already satisfied: rsa<5,>=3.1.4 in c:\\users\\nithi\\anaconda3\\lib\\site-packages (from google-auth<3,>=1.6.3->tensorboard<2.16,>=2.15->tensorflow-intel==2.15.0->tensorflow) (4.9)\n",
      "Requirement already satisfied: requests-oauthlib>=0.7.0 in c:\\users\\nithi\\anaconda3\\lib\\site-packages (from google-auth-oauthlib<2,>=0.5->tensorboard<2.16,>=2.15->tensorflow-intel==2.15.0->tensorflow) (1.3.1)\n",
      "Requirement already satisfied: charset-normalizer<4,>=2 in c:\\users\\nithi\\anaconda3\\lib\\site-packages (from requests<3,>=2.21.0->tensorboard<2.16,>=2.15->tensorflow-intel==2.15.0->tensorflow) (2.0.4)\n",
      "Requirement already satisfied: idna<4,>=2.5 in c:\\users\\nithi\\anaconda3\\lib\\site-packages (from requests<3,>=2.21.0->tensorboard<2.16,>=2.15->tensorflow-intel==2.15.0->tensorflow) (3.4)\n",
      "Requirement already satisfied: urllib3<3,>=1.21.1 in c:\\users\\nithi\\anaconda3\\lib\\site-packages (from requests<3,>=2.21.0->tensorboard<2.16,>=2.15->tensorflow-intel==2.15.0->tensorflow) (1.26.16)\n",
      "Requirement already satisfied: certifi>=2017.4.17 in c:\\users\\nithi\\anaconda3\\lib\\site-packages (from requests<3,>=2.21.0->tensorboard<2.16,>=2.15->tensorflow-intel==2.15.0->tensorflow) (2023.7.22)\n",
      "Requirement already satisfied: MarkupSafe>=2.1.1 in c:\\users\\nithi\\anaconda3\\lib\\site-packages (from werkzeug>=1.0.1->tensorboard<2.16,>=2.15->tensorflow-intel==2.15.0->tensorflow) (2.1.1)\n",
      "Requirement already satisfied: pyasn1<0.5.0,>=0.4.6 in c:\\users\\nithi\\anaconda3\\lib\\site-packages (from pyasn1-modules>=0.2.1->google-auth<3,>=1.6.3->tensorboard<2.16,>=2.15->tensorflow-intel==2.15.0->tensorflow) (0.4.8)\n",
      "Requirement already satisfied: oauthlib>=3.0.0 in c:\\users\\nithi\\anaconda3\\lib\\site-packages (from requests-oauthlib>=0.7.0->google-auth-oauthlib<2,>=0.5->tensorboard<2.16,>=2.15->tensorflow-intel==2.15.0->tensorflow) (3.2.2)\n",
      "Note: you may need to restart the kernel to use updated packages.\n"
     ]
    }
   ],
   "source": [
    "pip install tensorflow\n"
   ]
  },
  {
   "cell_type": "markdown",
   "metadata": {
    "id": "xZJ8vQYcbP0J"
   },
   "source": [
    "# Importing Libraries\n"
   ]
  },
  {
   "cell_type": "code",
   "execution_count": 2,
   "metadata": {
    "executionInfo": {
     "elapsed": 4264,
     "status": "ok",
     "timestamp": 1705816725366,
     "user": {
      "displayName": "NITHIN GOUD",
      "userId": "14723641495836732083"
     },
     "user_tz": -330
    },
    "id": "iH66z3YNTfi4"
   },
   "outputs": [
    {
     "name": "stdout",
     "output_type": "stream",
     "text": [
      "WARNING:tensorflow:From C:\\Users\\nithi\\anaconda3\\Lib\\site-packages\\keras\\src\\losses.py:2976: The name tf.losses.sparse_softmax_cross_entropy is deprecated. Please use tf.compat.v1.losses.sparse_softmax_cross_entropy instead.\n",
      "\n"
     ]
    }
   ],
   "source": [
    "import numpy as np\n",
    "import tensorflow as tf\n",
    "import matplotlib.pyplot as plt\n"
   ]
  },
  {
   "cell_type": "markdown",
   "metadata": {
    "id": "Di1kV3KmbXpD"
   },
   "source": [
    "#Data **Preprocessing**"
   ]
  },
  {
   "cell_type": "markdown",
   "metadata": {
    "id": "jReJauEsgbmt"
   },
   "source": []
  },
  {
   "cell_type": "markdown",
   "metadata": {
    "id": "iYyO-UyKbb7t"
   },
   "source": [
    "##Training Image preprocessing"
   ]
  },
  {
   "cell_type": "code",
   "execution_count": 3,
   "metadata": {
    "colab": {
     "base_uri": "https://localhost:8080/"
    },
    "executionInfo": {
     "elapsed": 4629,
     "status": "ok",
     "timestamp": 1705816810504,
     "user": {
      "displayName": "NITHIN GOUD",
      "userId": "14723641495836732083"
     },
     "user_tz": -330
    },
    "id": "GNyT2pMUUrPb",
    "outputId": "37f8e6ba-1cec-495f-d915-2d6f1112679b"
   },
   "outputs": [
    {
     "ename": "NotFoundError",
     "evalue": "Could not find directory http://localhost:8889/tree",
     "output_type": "error",
     "traceback": [
      "\u001b[1;31m---------------------------------------------------------------------------\u001b[0m",
      "\u001b[1;31mNotFoundError\u001b[0m                             Traceback (most recent call last)",
      "Cell \u001b[1;32mIn[3], line 1\u001b[0m\n\u001b[1;32m----> 1\u001b[0m training_set \u001b[38;5;241m=\u001b[39m tf\u001b[38;5;241m.\u001b[39mkeras\u001b[38;5;241m.\u001b[39mutils\u001b[38;5;241m.\u001b[39mimage_dataset_from_directory(\n\u001b[0;32m      2\u001b[0m     \u001b[38;5;124m'\u001b[39m\u001b[38;5;124mhttp://localhost:8889/tree\u001b[39m\u001b[38;5;124m'\u001b[39m,\n\u001b[0;32m      3\u001b[0m     labels\u001b[38;5;241m=\u001b[39m\u001b[38;5;124m\"\u001b[39m\u001b[38;5;124minferred\u001b[39m\u001b[38;5;124m\"\u001b[39m,\n\u001b[0;32m      4\u001b[0m     label_mode\u001b[38;5;241m=\u001b[39m\u001b[38;5;124m\"\u001b[39m\u001b[38;5;124mcategorical\u001b[39m\u001b[38;5;124m\"\u001b[39m,\n\u001b[0;32m      5\u001b[0m     class_names\u001b[38;5;241m=\u001b[39m\u001b[38;5;28;01mNone\u001b[39;00m,\n\u001b[0;32m      6\u001b[0m     color_mode\u001b[38;5;241m=\u001b[39m\u001b[38;5;124m\"\u001b[39m\u001b[38;5;124mrgb\u001b[39m\u001b[38;5;124m\"\u001b[39m,\n\u001b[0;32m      7\u001b[0m     batch_size\u001b[38;5;241m=\u001b[39m\u001b[38;5;241m32\u001b[39m,\n\u001b[0;32m      8\u001b[0m     image_size\u001b[38;5;241m=\u001b[39m(\u001b[38;5;241m64\u001b[39m, \u001b[38;5;241m64\u001b[39m),\n\u001b[0;32m      9\u001b[0m     shuffle\u001b[38;5;241m=\u001b[39m\u001b[38;5;28;01mTrue\u001b[39;00m,\n\u001b[0;32m     10\u001b[0m     seed\u001b[38;5;241m=\u001b[39m\u001b[38;5;28;01mNone\u001b[39;00m,\n\u001b[0;32m     11\u001b[0m     validation_split\u001b[38;5;241m=\u001b[39m\u001b[38;5;28;01mNone\u001b[39;00m,\n\u001b[0;32m     12\u001b[0m     subset\u001b[38;5;241m=\u001b[39m\u001b[38;5;28;01mNone\u001b[39;00m,\n\u001b[0;32m     13\u001b[0m     interpolation\u001b[38;5;241m=\u001b[39m\u001b[38;5;124m\"\u001b[39m\u001b[38;5;124mbilinear\u001b[39m\u001b[38;5;124m\"\u001b[39m,\n\u001b[0;32m     14\u001b[0m     follow_links\u001b[38;5;241m=\u001b[39m\u001b[38;5;28;01mFalse\u001b[39;00m,\n\u001b[0;32m     15\u001b[0m     crop_to_aspect_ratio\u001b[38;5;241m=\u001b[39m\u001b[38;5;28;01mFalse\u001b[39;00m\n\u001b[0;32m     16\u001b[0m )\n",
      "File \u001b[1;32m~\\anaconda3\\Lib\\site-packages\\keras\\src\\utils\\image_dataset.py:213\u001b[0m, in \u001b[0;36mimage_dataset_from_directory\u001b[1;34m(directory, labels, label_mode, class_names, color_mode, batch_size, image_size, shuffle, seed, validation_split, subset, interpolation, follow_links, crop_to_aspect_ratio, **kwargs)\u001b[0m\n\u001b[0;32m    211\u001b[0m \u001b[38;5;28;01mif\u001b[39;00m seed \u001b[38;5;129;01mis\u001b[39;00m \u001b[38;5;28;01mNone\u001b[39;00m:\n\u001b[0;32m    212\u001b[0m     seed \u001b[38;5;241m=\u001b[39m np\u001b[38;5;241m.\u001b[39mrandom\u001b[38;5;241m.\u001b[39mrandint(\u001b[38;5;241m1e6\u001b[39m)\n\u001b[1;32m--> 213\u001b[0m image_paths, labels, class_names \u001b[38;5;241m=\u001b[39m dataset_utils\u001b[38;5;241m.\u001b[39mindex_directory(\n\u001b[0;32m    214\u001b[0m     directory,\n\u001b[0;32m    215\u001b[0m     labels,\n\u001b[0;32m    216\u001b[0m     formats\u001b[38;5;241m=\u001b[39mALLOWLIST_FORMATS,\n\u001b[0;32m    217\u001b[0m     class_names\u001b[38;5;241m=\u001b[39mclass_names,\n\u001b[0;32m    218\u001b[0m     shuffle\u001b[38;5;241m=\u001b[39mshuffle,\n\u001b[0;32m    219\u001b[0m     seed\u001b[38;5;241m=\u001b[39mseed,\n\u001b[0;32m    220\u001b[0m     follow_links\u001b[38;5;241m=\u001b[39mfollow_links,\n\u001b[0;32m    221\u001b[0m )\n\u001b[0;32m    223\u001b[0m \u001b[38;5;28;01mif\u001b[39;00m label_mode \u001b[38;5;241m==\u001b[39m \u001b[38;5;124m\"\u001b[39m\u001b[38;5;124mbinary\u001b[39m\u001b[38;5;124m\"\u001b[39m \u001b[38;5;129;01mand\u001b[39;00m \u001b[38;5;28mlen\u001b[39m(class_names) \u001b[38;5;241m!=\u001b[39m \u001b[38;5;241m2\u001b[39m:\n\u001b[0;32m    224\u001b[0m     \u001b[38;5;28;01mraise\u001b[39;00m \u001b[38;5;167;01mValueError\u001b[39;00m(\n\u001b[0;32m    225\u001b[0m         \u001b[38;5;124m'\u001b[39m\u001b[38;5;124mWhen passing `label_mode=\u001b[39m\u001b[38;5;124m\"\u001b[39m\u001b[38;5;124mbinary\u001b[39m\u001b[38;5;124m\"\u001b[39m\u001b[38;5;124m`, there must be exactly 2 \u001b[39m\u001b[38;5;124m'\u001b[39m\n\u001b[0;32m    226\u001b[0m         \u001b[38;5;124mf\u001b[39m\u001b[38;5;124m\"\u001b[39m\u001b[38;5;124mclass_names. Received: class_names=\u001b[39m\u001b[38;5;132;01m{\u001b[39;00mclass_names\u001b[38;5;132;01m}\u001b[39;00m\u001b[38;5;124m\"\u001b[39m\n\u001b[0;32m    227\u001b[0m     )\n",
      "File \u001b[1;32m~\\anaconda3\\Lib\\site-packages\\keras\\src\\utils\\dataset_utils.py:542\u001b[0m, in \u001b[0;36mindex_directory\u001b[1;34m(directory, labels, formats, class_names, shuffle, seed, follow_links)\u001b[0m\n\u001b[0;32m    540\u001b[0m \u001b[38;5;28;01melse\u001b[39;00m:\n\u001b[0;32m    541\u001b[0m     subdirs \u001b[38;5;241m=\u001b[39m []\n\u001b[1;32m--> 542\u001b[0m     \u001b[38;5;28;01mfor\u001b[39;00m subdir \u001b[38;5;129;01min\u001b[39;00m \u001b[38;5;28msorted\u001b[39m(tf\u001b[38;5;241m.\u001b[39mio\u001b[38;5;241m.\u001b[39mgfile\u001b[38;5;241m.\u001b[39mlistdir(directory)):\n\u001b[0;32m    543\u001b[0m         \u001b[38;5;28;01mif\u001b[39;00m tf\u001b[38;5;241m.\u001b[39mio\u001b[38;5;241m.\u001b[39mgfile\u001b[38;5;241m.\u001b[39misdir(tf\u001b[38;5;241m.\u001b[39mio\u001b[38;5;241m.\u001b[39mgfile\u001b[38;5;241m.\u001b[39mjoin(directory, subdir)):\n\u001b[0;32m    544\u001b[0m             \u001b[38;5;28;01mif\u001b[39;00m \u001b[38;5;129;01mnot\u001b[39;00m subdir\u001b[38;5;241m.\u001b[39mstartswith(\u001b[38;5;124m\"\u001b[39m\u001b[38;5;124m.\u001b[39m\u001b[38;5;124m\"\u001b[39m):\n",
      "File \u001b[1;32m~\\anaconda3\\Lib\\site-packages\\tensorflow\\python\\lib\\io\\file_io.py:768\u001b[0m, in \u001b[0;36mlist_directory_v2\u001b[1;34m(path)\u001b[0m\n\u001b[0;32m    753\u001b[0m \u001b[38;5;250m\u001b[39m\u001b[38;5;124;03m\"\"\"Returns a list of entries contained within a directory.\u001b[39;00m\n\u001b[0;32m    754\u001b[0m \n\u001b[0;32m    755\u001b[0m \u001b[38;5;124;03mThe list is in arbitrary order. It does not contain the special entries \".\"\u001b[39;00m\n\u001b[1;32m   (...)\u001b[0m\n\u001b[0;32m    765\u001b[0m \u001b[38;5;124;03m  errors.NotFoundError if directory doesn't exist\u001b[39;00m\n\u001b[0;32m    766\u001b[0m \u001b[38;5;124;03m\"\"\"\u001b[39;00m\n\u001b[0;32m    767\u001b[0m \u001b[38;5;28;01mif\u001b[39;00m \u001b[38;5;129;01mnot\u001b[39;00m is_directory(path):\n\u001b[1;32m--> 768\u001b[0m   \u001b[38;5;28;01mraise\u001b[39;00m errors\u001b[38;5;241m.\u001b[39mNotFoundError(\n\u001b[0;32m    769\u001b[0m       node_def\u001b[38;5;241m=\u001b[39m\u001b[38;5;28;01mNone\u001b[39;00m,\n\u001b[0;32m    770\u001b[0m       op\u001b[38;5;241m=\u001b[39m\u001b[38;5;28;01mNone\u001b[39;00m,\n\u001b[0;32m    771\u001b[0m       message\u001b[38;5;241m=\u001b[39m\u001b[38;5;124m\"\u001b[39m\u001b[38;5;124mCould not find directory \u001b[39m\u001b[38;5;132;01m{}\u001b[39;00m\u001b[38;5;124m\"\u001b[39m\u001b[38;5;241m.\u001b[39mformat(path))\n\u001b[0;32m    773\u001b[0m \u001b[38;5;66;03m# Convert each element to string, since the return values of the\u001b[39;00m\n\u001b[0;32m    774\u001b[0m \u001b[38;5;66;03m# vector of string should be interpreted as strings, not bytes.\u001b[39;00m\n\u001b[0;32m    775\u001b[0m \u001b[38;5;28;01mreturn\u001b[39;00m [\n\u001b[0;32m    776\u001b[0m     compat\u001b[38;5;241m.\u001b[39mas_str_any(filename)\n\u001b[0;32m    777\u001b[0m     \u001b[38;5;28;01mfor\u001b[39;00m filename \u001b[38;5;129;01min\u001b[39;00m _pywrap_file_io\u001b[38;5;241m.\u001b[39mGetChildren(compat\u001b[38;5;241m.\u001b[39mpath_to_bytes(path))\n\u001b[0;32m    778\u001b[0m ]\n",
      "\u001b[1;31mNotFoundError\u001b[0m: Could not find directory http://localhost:8889/tree"
     ]
    }
   ],
   "source": [
    "training_set = tf.keras.utils.image_dataset_from_directory(\n",
    "    'http://localhost:8889/tree',\n",
    "    labels=\"inferred\",\n",
    "    label_mode=\"categorical\",\n",
    "    class_names=None,\n",
    "    color_mode=\"rgb\",\n",
    "    batch_size=32,\n",
    "    image_size=(64, 64),\n",
    "    shuffle=True,\n",
    "    seed=None,\n",
    "    validation_split=None,\n",
    "    subset=None,\n",
    "    interpolation=\"bilinear\",\n",
    "    follow_links=False,\n",
    "    crop_to_aspect_ratio=False\n",
    ")"
   ]
  },
  {
   "cell_type": "markdown",
   "metadata": {
    "id": "yaYPa7E9h5BA"
   },
   "source": [
    "#validation image preprocessing\n"
   ]
  },
  {
   "cell_type": "code",
   "execution_count": 4,
   "metadata": {
    "colab": {
     "base_uri": "https://localhost:8080/"
    },
    "executionInfo": {
     "elapsed": 1980,
     "status": "ok",
     "timestamp": 1705816822314,
     "user": {
      "displayName": "NITHIN GOUD",
      "userId": "14723641495836732083"
     },
     "user_tz": -330
    },
    "id": "c60_MP42hvLd",
    "outputId": "ec026c8c-6183-4489-d2bd-3478aa9647fa"
   },
   "outputs": [
    {
     "name": "stdout",
     "output_type": "stream",
     "text": [
      "Found 351 files belonging to 36 classes.\n"
     ]
    }
   ],
   "source": [
    "validation_dataset=tf.keras.utils.image_dataset_from_directory(\n",
    "    '/content/drive/MyDrive/foodrecog/validation',\n",
    "    labels=\"inferred\",\n",
    "    label_mode=\"categorical\",\n",
    "    class_names=None,\n",
    "    color_mode=\"rgb\",\n",
    "    batch_size=32,\n",
    "    image_size=(64, 64),\n",
    "    shuffle=True,\n",
    "    seed=None,\n",
    "    validation_split=None,\n",
    "    subset=None,\n",
    "    interpolation=\"bilinear\",\n",
    "    follow_links=False,\n",
    "    crop_to_aspect_ratio=False,\n",
    "\n",
    ")"
   ]
  },
  {
   "cell_type": "markdown",
   "metadata": {
    "id": "pQcfU5o6js_I"
   },
   "source": [
    "#Building Model"
   ]
  },
  {
   "cell_type": "code",
   "execution_count": null,
   "metadata": {
    "id": "8wUTOm5dSLa4"
   },
   "outputs": [],
   "source": []
  },
  {
   "cell_type": "code",
   "execution_count": 5,
   "metadata": {
    "executionInfo": {
     "elapsed": 519,
     "status": "ok",
     "timestamp": 1705816829628,
     "user": {
      "displayName": "NITHIN GOUD",
      "userId": "14723641495836732083"
     },
     "user_tz": -330
    },
    "id": "GbtgH5G4h21R"
   },
   "outputs": [],
   "source": [
    "cnn=tf.keras.models.Sequential()"
   ]
  },
  {
   "cell_type": "markdown",
   "metadata": {
    "id": "5CPkM10OkooS"
   },
   "source": [
    "#Building Convolution layer"
   ]
  },
  {
   "cell_type": "markdown",
   "metadata": {
    "id": "6W8pY6QCkuSX"
   },
   "source": []
  },
  {
   "cell_type": "code",
   "execution_count": 6,
   "metadata": {
    "executionInfo": {
     "elapsed": 541,
     "status": "ok",
     "timestamp": 1705816846930,
     "user": {
      "displayName": "NITHIN GOUD",
      "userId": "14723641495836732083"
     },
     "user_tz": -330
    },
    "id": "I2GvY2bej7qU"
   },
   "outputs": [],
   "source": [
    "\n",
    "cnn.add(tf.keras.layers.Conv2D(filters=32,kernel_size=3,padding='same',activation='relu',input_shape=[64,64,3]))\n",
    "cnn.add(tf.keras.layers.Conv2D(filters=32,kernel_size=3,activation='relu'))\n",
    "cnn.add(tf.keras.layers.MaxPool2D(pool_size=2,strides=2))"
   ]
  },
  {
   "cell_type": "code",
   "execution_count": 7,
   "metadata": {
    "executionInfo": {
     "elapsed": 568,
     "status": "ok",
     "timestamp": 1705816867613,
     "user": {
      "displayName": "NITHIN GOUD",
      "userId": "14723641495836732083"
     },
     "user_tz": -330
    },
    "id": "4ppaG8sIl-rN"
   },
   "outputs": [],
   "source": [
    "cnn.add(tf.keras.layers.Dropout(0.25))"
   ]
  },
  {
   "cell_type": "code",
   "execution_count": 8,
   "metadata": {
    "executionInfo": {
     "elapsed": 564,
     "status": "ok",
     "timestamp": 1705816877417,
     "user": {
      "displayName": "NITHIN GOUD",
      "userId": "14723641495836732083"
     },
     "user_tz": -330
    },
    "id": "Mwgdw2Wdm8ig"
   },
   "outputs": [],
   "source": [
    "cnn.add(tf.keras.layers.Conv2D(filters=64,kernel_size=3,padding='same',activation='relu'))\n",
    "cnn.add(tf.keras.layers.Conv2D(filters=64,kernel_size=3,activation='relu'))\n",
    "cnn.add(tf.keras.layers.MaxPool2D(pool_size=2,strides=2))"
   ]
  },
  {
   "cell_type": "code",
   "execution_count": 9,
   "metadata": {
    "executionInfo": {
     "elapsed": 338,
     "status": "ok",
     "timestamp": 1705816888327,
     "user": {
      "displayName": "NITHIN GOUD",
      "userId": "14723641495836732083"
     },
     "user_tz": -330
    },
    "id": "cAOZ6jICn1qo"
   },
   "outputs": [],
   "source": [
    "\n",
    "\n",
    "cnn.add(tf.keras.layers.Dropout(0.25))"
   ]
  },
  {
   "cell_type": "code",
   "execution_count": 10,
   "metadata": {
    "executionInfo": {
     "elapsed": 527,
     "status": "ok",
     "timestamp": 1705816896602,
     "user": {
      "displayName": "NITHIN GOUD",
      "userId": "14723641495836732083"
     },
     "user_tz": -330
    },
    "id": "-eJFfblxoPUn"
   },
   "outputs": [],
   "source": [
    "cnn.add(tf.keras.layers.Flatten())"
   ]
  },
  {
   "cell_type": "code",
   "execution_count": 11,
   "metadata": {
    "executionInfo": {
     "elapsed": 349,
     "status": "ok",
     "timestamp": 1705816907054,
     "user": {
      "displayName": "NITHIN GOUD",
      "userId": "14723641495836732083"
     },
     "user_tz": -330
    },
    "id": "mCWICFo5qvwK"
   },
   "outputs": [],
   "source": [
    "cnn.add(tf.keras.layers.Dense(units=512,activation='relu'))"
   ]
  },
  {
   "cell_type": "code",
   "execution_count": 12,
   "metadata": {
    "executionInfo": {
     "elapsed": 6,
     "status": "ok",
     "timestamp": 1705816915494,
     "user": {
      "displayName": "NITHIN GOUD",
      "userId": "14723641495836732083"
     },
     "user_tz": -330
    },
    "id": "LYBepu7wSr9I"
   },
   "outputs": [],
   "source": [
    "\n",
    "cnn.add(tf.keras.layers.Dense(units=256,activation='relu'))"
   ]
  },
  {
   "cell_type": "code",
   "execution_count": 13,
   "metadata": {
    "executionInfo": {
     "elapsed": 544,
     "status": "ok",
     "timestamp": 1705816926731,
     "user": {
      "displayName": "NITHIN GOUD",
      "userId": "14723641495836732083"
     },
     "user_tz": -330
    },
    "id": "nsBPAp6-q7fU"
   },
   "outputs": [],
   "source": [
    "\n",
    "cnn.add(tf.keras.layers.Dropout(0.5)) #To avoid overfitting"
   ]
  },
  {
   "cell_type": "code",
   "execution_count": 14,
   "metadata": {
    "executionInfo": {
     "elapsed": 536,
     "status": "ok",
     "timestamp": 1705816941773,
     "user": {
      "displayName": "NITHIN GOUD",
      "userId": "14723641495836732083"
     },
     "user_tz": -330
    },
    "id": "sgxiyJz9nLa-"
   },
   "outputs": [],
   "source": [
    "\n",
    "#Output Layer\n",
    "cnn.add(tf.keras.layers.Dense(units=36,activation='softmax'))"
   ]
  },
  {
   "cell_type": "markdown",
   "metadata": {
    "id": "nqtm4qSJz_VF"
   },
   "source": [
    "#Compiling Training Phase"
   ]
  },
  {
   "cell_type": "markdown",
   "metadata": {
    "id": "3d1odc4TNv3F"
   },
   "source": [
    "cnn.summary()"
   ]
  },
  {
   "cell_type": "code",
   "execution_count": 15,
   "metadata": {
    "executionInfo": {
     "elapsed": 550,
     "status": "ok",
     "timestamp": 1705816975485,
     "user": {
      "displayName": "NITHIN GOUD",
      "userId": "14723641495836732083"
     },
     "user_tz": -330
    },
    "id": "sML3YMeWr1bu"
   },
   "outputs": [],
   "source": [
    "cnn.compile(optimizer='adam',loss='categorical_crossentropy',metrics=['accuracy'])"
   ]
  },
  {
   "cell_type": "code",
   "execution_count": 16,
   "metadata": {
    "colab": {
     "base_uri": "https://localhost:8080/"
    },
    "executionInfo": {
     "elapsed": 350,
     "status": "ok",
     "timestamp": 1705816980465,
     "user": {
      "displayName": "NITHIN GOUD",
      "userId": "14723641495836732083"
     },
     "user_tz": -330
    },
    "id": "TU6zLVa8N7DD",
    "outputId": "ae34165e-b0ca-4f80-c2dd-ec14c8ee367e"
   },
   "outputs": [
    {
     "name": "stdout",
     "output_type": "stream",
     "text": [
      "Model: \"sequential\"\n",
      "_________________________________________________________________\n",
      " Layer (type)                Output Shape              Param #   \n",
      "=================================================================\n",
      " conv2d (Conv2D)             (None, 64, 64, 32)        896       \n",
      "                                                                 \n",
      " conv2d_1 (Conv2D)           (None, 62, 62, 32)        9248      \n",
      "                                                                 \n",
      " max_pooling2d (MaxPooling2  (None, 31, 31, 32)        0         \n",
      " D)                                                              \n",
      "                                                                 \n",
      " dropout (Dropout)           (None, 31, 31, 32)        0         \n",
      "                                                                 \n",
      " conv2d_2 (Conv2D)           (None, 31, 31, 64)        18496     \n",
      "                                                                 \n",
      " conv2d_3 (Conv2D)           (None, 29, 29, 64)        36928     \n",
      "                                                                 \n",
      " max_pooling2d_1 (MaxPoolin  (None, 14, 14, 64)        0         \n",
      " g2D)                                                            \n",
      "                                                                 \n",
      " dropout_1 (Dropout)         (None, 14, 14, 64)        0         \n",
      "                                                                 \n",
      " flatten (Flatten)           (None, 12544)             0         \n",
      "                                                                 \n",
      " dense (Dense)               (None, 512)               6423040   \n",
      "                                                                 \n",
      " dense_1 (Dense)             (None, 256)               131328    \n",
      "                                                                 \n",
      " dropout_2 (Dropout)         (None, 256)               0         \n",
      "                                                                 \n",
      " dense_2 (Dense)             (None, 36)                9252      \n",
      "                                                                 \n",
      "=================================================================\n",
      "Total params: 6629188 (25.29 MB)\n",
      "Trainable params: 6629188 (25.29 MB)\n",
      "Non-trainable params: 0 (0.00 Byte)\n",
      "_________________________________________________________________\n"
     ]
    }
   ],
   "source": [
    "cnn.summary()"
   ]
  },
  {
   "cell_type": "markdown",
   "metadata": {
    "id": "ceYYbXBCN6oj"
   },
   "source": []
  },
  {
   "cell_type": "code",
   "execution_count": 19,
   "metadata": {
    "colab": {
     "base_uri": "https://localhost:8080/"
    },
    "executionInfo": {
     "elapsed": 664,
     "status": "ok",
     "timestamp": 1705823345296,
     "user": {
      "displayName": "NITHIN GOUD",
      "userId": "14723641495836732083"
     },
     "user_tz": -330
    },
    "id": "7hSFRhfi1qlI",
    "outputId": "b7cfe11e-959c-4f6f-ddb7-94c123fdfb83"
   },
   "outputs": [
    {
     "name": "stdout",
     "output_type": "stream",
     "text": [
      "Epoch 1/32\n",
      "98/98 [==============================] - 539s 5s/step - loss: 11.0070 - accuracy: 0.0333 - val_loss: 3.5824 - val_accuracy: 0.0285\n",
      "Epoch 2/32\n",
      "98/98 [==============================] - 161s 2s/step - loss: 3.5810 - accuracy: 0.0336 - val_loss: 3.5800 - val_accuracy: 0.0313\n",
      "Epoch 3/32\n",
      "98/98 [==============================] - 160s 2s/step - loss: 3.5691 - accuracy: 0.0403 - val_loss: 3.5754 - val_accuracy: 0.0342\n",
      "Epoch 4/32\n",
      "98/98 [==============================] - 160s 2s/step - loss: 3.5723 - accuracy: 0.0387 - val_loss: 3.5676 - val_accuracy: 0.0399\n",
      "Epoch 5/32\n",
      "98/98 [==============================] - 164s 2s/step - loss: 3.5552 - accuracy: 0.0426 - val_loss: 3.5585 - val_accuracy: 0.0513\n",
      "Epoch 6/32\n",
      "98/98 [==============================] - 157s 1s/step - loss: 3.5393 - accuracy: 0.0458 - val_loss: 3.5341 - val_accuracy: 0.0684\n",
      "Epoch 7/32\n",
      "98/98 [==============================] - 150s 1s/step - loss: 3.4097 - accuracy: 0.0726 - val_loss: 3.2168 - val_accuracy: 0.1111\n",
      "Epoch 8/32\n",
      "98/98 [==============================] - 153s 1s/step - loss: 3.3121 - accuracy: 0.0822 - val_loss: 3.0576 - val_accuracy: 0.1595\n",
      "Epoch 9/32\n",
      "98/98 [==============================] - 169s 2s/step - loss: 3.1982 - accuracy: 0.1005 - val_loss: 2.9459 - val_accuracy: 0.2308\n",
      "Epoch 10/32\n",
      "98/98 [==============================] - 162s 2s/step - loss: 3.1226 - accuracy: 0.1206 - val_loss: 2.9193 - val_accuracy: 0.2365\n",
      "Epoch 11/32\n",
      "98/98 [==============================] - 162s 2s/step - loss: 3.0018 - accuracy: 0.1526 - val_loss: 2.6292 - val_accuracy: 0.3476\n",
      "Epoch 12/32\n",
      "98/98 [==============================] - 166s 2s/step - loss: 2.9142 - accuracy: 0.1821 - val_loss: 2.7484 - val_accuracy: 0.3077\n",
      "Epoch 13/32\n",
      "98/98 [==============================] - 160s 2s/step - loss: 2.7694 - accuracy: 0.2179 - val_loss: 2.2746 - val_accuracy: 0.4017\n",
      "Epoch 14/32\n",
      "98/98 [==============================] - 161s 2s/step - loss: 2.6603 - accuracy: 0.2554 - val_loss: 2.2810 - val_accuracy: 0.3761\n",
      "Epoch 15/32\n",
      "98/98 [==============================] - 160s 2s/step - loss: 2.5350 - accuracy: 0.2915 - val_loss: 2.1681 - val_accuracy: 0.4387\n",
      "Epoch 16/32\n",
      "98/98 [==============================] - 159s 2s/step - loss: 2.4169 - accuracy: 0.3200 - val_loss: 1.8843 - val_accuracy: 0.5214\n",
      "Epoch 17/32\n",
      "98/98 [==============================] - 154s 2s/step - loss: 2.2665 - accuracy: 0.3587 - val_loss: 1.7308 - val_accuracy: 0.5670\n",
      "Epoch 18/32\n",
      "98/98 [==============================] - 160s 2s/step - loss: 2.1413 - accuracy: 0.3914 - val_loss: 1.8695 - val_accuracy: 0.5214\n",
      "Epoch 19/32\n",
      "98/98 [==============================] - 160s 2s/step - loss: 2.0790 - accuracy: 0.4214 - val_loss: 1.5583 - val_accuracy: 0.6154\n",
      "Epoch 20/32\n",
      "98/98 [==============================] - 165s 2s/step - loss: 1.9007 - accuracy: 0.4611 - val_loss: 1.3876 - val_accuracy: 0.6610\n",
      "Epoch 21/32\n",
      "98/98 [==============================] - 150s 1s/step - loss: 1.8520 - accuracy: 0.4704 - val_loss: 1.3828 - val_accuracy: 0.6809\n",
      "Epoch 22/32\n",
      "98/98 [==============================] - 160s 2s/step - loss: 1.6922 - accuracy: 0.5094 - val_loss: 1.3676 - val_accuracy: 0.6752\n",
      "Epoch 23/32\n",
      "98/98 [==============================] - 169s 2s/step - loss: 1.6221 - accuracy: 0.5414 - val_loss: 1.2259 - val_accuracy: 0.7009\n",
      "Epoch 24/32\n",
      "98/98 [==============================] - 160s 2s/step - loss: 1.5672 - accuracy: 0.5533 - val_loss: 1.0879 - val_accuracy: 0.7578\n",
      "Epoch 25/32\n",
      "98/98 [==============================] - 160s 2s/step - loss: 1.4075 - accuracy: 0.5875 - val_loss: 0.9486 - val_accuracy: 0.7806\n",
      "Epoch 26/32\n",
      "98/98 [==============================] - 162s 2s/step - loss: 1.3466 - accuracy: 0.6179 - val_loss: 0.8628 - val_accuracy: 0.7949\n",
      "Epoch 27/32\n",
      "98/98 [==============================] - 162s 2s/step - loss: 1.2633 - accuracy: 0.6429 - val_loss: 0.9871 - val_accuracy: 0.7721\n",
      "Epoch 28/32\n",
      "98/98 [==============================] - 159s 2s/step - loss: 1.2231 - accuracy: 0.6470 - val_loss: 0.7936 - val_accuracy: 0.8177\n",
      "Epoch 29/32\n",
      "98/98 [==============================] - 160s 2s/step - loss: 1.1304 - accuracy: 0.6749 - val_loss: 0.7681 - val_accuracy: 0.8291\n",
      "Epoch 30/32\n",
      "98/98 [==============================] - 164s 2s/step - loss: 1.1699 - accuracy: 0.6771 - val_loss: 0.7665 - val_accuracy: 0.8177\n",
      "Epoch 31/32\n",
      "98/98 [==============================] - 160s 2s/step - loss: 1.0369 - accuracy: 0.7002 - val_loss: 0.8228 - val_accuracy: 0.8177\n",
      "Epoch 32/32\n",
      "98/98 [==============================] - 152s 1s/step - loss: 0.9869 - accuracy: 0.7226 - val_loss: 0.7404 - val_accuracy: 0.8091\n"
     ]
    }
   ],
   "source": [
    "\n",
    "training_history = cnn.fit(x=training_set,validation_data=validation_dataset,epochs=32)"
   ]
  },
  {
   "cell_type": "code",
   "execution_count": 20,
   "metadata": {
    "colab": {
     "base_uri": "https://localhost:8080/"
    },
    "executionInfo": {
     "elapsed": 105033,
     "status": "ok",
     "timestamp": 1705823489688,
     "user": {
      "displayName": "NITHIN GOUD",
      "userId": "14723641495836732083"
     },
     "user_tz": -330
    },
    "id": "BF3Kr_pm_yXO",
    "outputId": "2dee96e9-eb3d-4df5-c70f-934ace873c11"
   },
   "outputs": [
    {
     "name": "stdout",
     "output_type": "stream",
     "text": [
      "98/98 [==============================] - 105s 990ms/step - loss: 0.6312 - accuracy: 0.8221\n",
      "Training accuracy: 0.8220800161361694\n"
     ]
    }
   ],
   "source": [
    "\n",
    "#Training set Accuracy\n",
    "train_loss, train_acc = cnn.evaluate(training_set)\n",
    "print('Training accuracy:', train_acc)\n"
   ]
  },
  {
   "cell_type": "code",
   "execution_count": 22,
   "metadata": {
    "colab": {
     "base_uri": "https://localhost:8080/"
    },
    "executionInfo": {
     "elapsed": 20874,
     "status": "ok",
     "timestamp": 1705823547127,
     "user": {
      "displayName": "NITHIN GOUD",
      "userId": "14723641495836732083"
     },
     "user_tz": -330
    },
    "id": "Sthm6mEcASkj",
    "outputId": "9acb2395-5d4d-401d-80c4-c11ed46a657e"
   },
   "outputs": [
    {
     "name": "stdout",
     "output_type": "stream",
     "text": [
      "11/11 [==============================] - 16s 426ms/step - loss: 0.7404 - accuracy: 0.8091\n",
      "Validation accuracy: 0.809116780757904\n"
     ]
    }
   ],
   "source": [
    "\n",
    "#Validation set Accuracy\n",
    "val_loss, val_acc = cnn.evaluate(validation_dataset)\n",
    "print('Validation accuracy:', val_acc)\n"
   ]
  },
  {
   "cell_type": "markdown",
   "metadata": {
    "id": "fQzzkM4nJpbg"
   },
   "source": [
    "#Saving The Model"
   ]
  },
  {
   "cell_type": "code",
   "execution_count": 23,
   "metadata": {
    "colab": {
     "base_uri": "https://localhost:8080/"
    },
    "executionInfo": {
     "elapsed": 725,
     "status": "ok",
     "timestamp": 1705823555748,
     "user": {
      "displayName": "NITHIN GOUD",
      "userId": "14723641495836732083"
     },
     "user_tz": -330
    },
    "id": "1iJhWgSV2lUc",
    "outputId": "4f903dba-2f94-409b-dcbd-974f26b42361"
   },
   "outputs": [
    {
     "name": "stderr",
     "output_type": "stream",
     "text": [
      "/usr/local/lib/python3.10/dist-packages/keras/src/engine/training.py:3103: UserWarning: You are saving your model as an HDF5 file via `model.save()`. This file format is considered legacy. We recommend using instead the native Keras format, e.g. `model.save('my_model.keras')`.\n",
      "  saving_api.save_model(\n"
     ]
    }
   ],
   "source": [
    "cnn.save('trained_model.h5')"
   ]
  },
  {
   "cell_type": "code",
   "execution_count": 24,
   "metadata": {
    "colab": {
     "base_uri": "https://localhost:8080/"
    },
    "executionInfo": {
     "elapsed": 1479,
     "status": "ok",
     "timestamp": 1705823570125,
     "user": {
      "displayName": "NITHIN GOUD",
      "userId": "14723641495836732083"
     },
     "user_tz": -330
    },
    "id": "-JY97vUONQTO",
    "outputId": "85ea5986-5858-4f5c-8235-04dd87ccf5c3"
   },
   "outputs": [
    {
     "data": {
      "text/plain": [
       "{'loss': [11.006956100463867,\n",
       "  3.580998420715332,\n",
       "  3.5691401958465576,\n",
       "  3.572309732437134,\n",
       "  3.5552024841308594,\n",
       "  3.53926682472229,\n",
       "  3.409684658050537,\n",
       "  3.312129259109497,\n",
       "  3.1982040405273438,\n",
       "  3.122631549835205,\n",
       "  3.0017714500427246,\n",
       "  2.914201021194458,\n",
       "  2.7694122791290283,\n",
       "  2.6603143215179443,\n",
       "  2.5349674224853516,\n",
       "  2.416879892349243,\n",
       "  2.2665324211120605,\n",
       "  2.1413469314575195,\n",
       "  2.078986644744873,\n",
       "  1.9006742238998413,\n",
       "  1.8520207405090332,\n",
       "  1.6922314167022705,\n",
       "  1.6221219301223755,\n",
       "  1.5671941041946411,\n",
       "  1.4074900150299072,\n",
       "  1.3466169834136963,\n",
       "  1.2632654905319214,\n",
       "  1.2230802774429321,\n",
       "  1.1303952932357788,\n",
       "  1.1699464321136475,\n",
       "  1.036851406097412,\n",
       "  0.986900806427002],\n",
       " 'accuracy': [0.03328000009059906,\n",
       "  0.03359999880194664,\n",
       "  0.04032000154256821,\n",
       "  0.03872000053524971,\n",
       "  0.04255999997258186,\n",
       "  0.04575999826192856,\n",
       "  0.07264000177383423,\n",
       "  0.08224000036716461,\n",
       "  0.10047999769449234,\n",
       "  0.12064000219106674,\n",
       "  0.15263999998569489,\n",
       "  0.1820800006389618,\n",
       "  0.21792000532150269,\n",
       "  0.2553600072860718,\n",
       "  0.29151999950408936,\n",
       "  0.3199999928474426,\n",
       "  0.35872000455856323,\n",
       "  0.39136001467704773,\n",
       "  0.4214400053024292,\n",
       "  0.46112000942230225,\n",
       "  0.47040000557899475,\n",
       "  0.509440004825592,\n",
       "  0.5414400100708008,\n",
       "  0.5532799959182739,\n",
       "  0.5875200033187866,\n",
       "  0.6179199814796448,\n",
       "  0.6428800225257874,\n",
       "  0.6470400094985962,\n",
       "  0.6748800277709961,\n",
       "  0.6771199703216553,\n",
       "  0.700160026550293,\n",
       "  0.7225599884986877],\n",
       " 'val_loss': [3.5824291706085205,\n",
       "  3.5799918174743652,\n",
       "  3.575443983078003,\n",
       "  3.567553997039795,\n",
       "  3.558473825454712,\n",
       "  3.5341107845306396,\n",
       "  3.2167716026306152,\n",
       "  3.057593822479248,\n",
       "  2.945862054824829,\n",
       "  2.9193201065063477,\n",
       "  2.6292121410369873,\n",
       "  2.748379707336426,\n",
       "  2.274590253829956,\n",
       "  2.281040668487549,\n",
       "  2.1681160926818848,\n",
       "  1.8842698335647583,\n",
       "  1.7307782173156738,\n",
       "  1.8695148229599,\n",
       "  1.5582813024520874,\n",
       "  1.3876168727874756,\n",
       "  1.382805585861206,\n",
       "  1.3675718307495117,\n",
       "  1.2258939743041992,\n",
       "  1.087864875793457,\n",
       "  0.9486061334609985,\n",
       "  0.862838089466095,\n",
       "  0.9870837330818176,\n",
       "  0.7936390042304993,\n",
       "  0.7680819630622864,\n",
       "  0.766474187374115,\n",
       "  0.8227921724319458,\n",
       "  0.7403687238693237],\n",
       " 'val_accuracy': [0.028490029275417328,\n",
       "  0.03133903071284294,\n",
       "  0.03418803587555885,\n",
       "  0.03988603875041008,\n",
       "  0.05128205195069313,\n",
       "  0.0683760717511177,\n",
       "  0.1111111119389534,\n",
       "  0.15954415500164032,\n",
       "  0.23076923191547394,\n",
       "  0.23646724224090576,\n",
       "  0.34757834672927856,\n",
       "  0.3076923191547394,\n",
       "  0.4017094075679779,\n",
       "  0.3760683834552765,\n",
       "  0.43874645233154297,\n",
       "  0.5213675498962402,\n",
       "  0.56695157289505,\n",
       "  0.5213675498962402,\n",
       "  0.6153846383094788,\n",
       "  0.6609686613082886,\n",
       "  0.680911660194397,\n",
       "  0.6752136945724487,\n",
       "  0.7008547186851501,\n",
       "  0.7578347325325012,\n",
       "  0.7806267738342285,\n",
       "  0.7948718070983887,\n",
       "  0.7720797657966614,\n",
       "  0.8176637887954712,\n",
       "  0.8290598392486572,\n",
       "  0.8176637887954712,\n",
       "  0.8176637887954712,\n",
       "  0.809116780757904]}"
      ]
     },
     "execution_count": 24,
     "metadata": {},
     "output_type": "execute_result"
    }
   ],
   "source": [
    "training_history.history #returns dict of history"
   ]
  },
  {
   "cell_type": "code",
   "execution_count": 25,
   "metadata": {
    "executionInfo": {
     "elapsed": 399,
     "status": "ok",
     "timestamp": 1705824550121,
     "user": {
      "displayName": "NITHIN GOUD",
      "userId": "14723641495836732083"
     },
     "user_tz": -330
    },
    "id": "t5AUyWUCNGhe"
   },
   "outputs": [],
   "source": [
    "#recording history in json\n",
    "import json\n",
    "with open('training_hist.json','w') as f:\n",
    "  json.dump(training_history.history,f)\n",
    "\n"
   ]
  },
  {
   "cell_type": "code",
   "execution_count": 26,
   "metadata": {
    "colab": {
     "base_uri": "https://localhost:8080/"
    },
    "executionInfo": {
     "elapsed": 879,
     "status": "ok",
     "timestamp": 1705824555013,
     "user": {
      "displayName": "NITHIN GOUD",
      "userId": "14723641495836732083"
     },
     "user_tz": -330
    },
    "id": "dOZGuf__N4gT",
    "outputId": "64aaf406-73ed-4b64-fd77-9b962c43c7d9"
   },
   "outputs": [
    {
     "name": "stdout",
     "output_type": "stream",
     "text": [
      "dict_keys(['loss', 'accuracy', 'val_loss', 'val_accuracy'])\n"
     ]
    }
   ],
   "source": [
    "print(training_history.history.keys())"
   ]
  },
  {
   "cell_type": "markdown",
   "metadata": {
    "id": "Efk1lLa8OR4O"
   },
   "source": [
    "##Calculating accuracy of model acheived on validation set"
   ]
  },
  {
   "cell_type": "code",
   "execution_count": 27,
   "metadata": {
    "colab": {
     "base_uri": "https://localhost:8080/"
    },
    "executionInfo": {
     "elapsed": 424,
     "status": "ok",
     "timestamp": 1705824577125,
     "user": {
      "displayName": "NITHIN GOUD",
      "userId": "14723641495836732083"
     },
     "user_tz": -330
    },
    "id": "0zlCLPBJOOgT",
    "outputId": "81a14130-dc0c-4b2e-b54d-b2b32ae52019"
   },
   "outputs": [
    {
     "name": "stdout",
     "output_type": "stream",
     "text": [
      "Validation set Accuracy: 80.9116780757904 %\n"
     ]
    }
   ],
   "source": [
    "print(\"Validation set Accuracy: {} %\".format(training_history.history['val_accuracy'][-1]*100))"
   ]
  },
  {
   "cell_type": "markdown",
   "metadata": {
    "id": "u7CzkF4NSbwO"
   },
   "source": [
    "#Accuracy Visualization\n",
    "\n",
    "---\n",
    "\n"
   ]
  },
  {
   "cell_type": "markdown",
   "metadata": {
    "id": "9YMe0W_rSg5U"
   },
   "source": [
    "Training Visualization"
   ]
  },
  {
   "cell_type": "code",
   "execution_count": 28,
   "metadata": {
    "colab": {
     "base_uri": "https://localhost:8080/",
     "height": 472
    },
    "executionInfo": {
     "elapsed": 1544,
     "status": "ok",
     "timestamp": 1705824629517,
     "user": {
      "displayName": "NITHIN GOUD",
      "userId": "14723641495836732083"
     },
     "user_tz": -330
    },
    "id": "-jgiLufPOiaY",
    "outputId": "b4cd1d01-647d-45c8-8a53-c48cd1c5e512"
   },
   "outputs": [
    {
     "data": {
      "image/png": "[encoded data removed]",
      "text/plain": [
       "<Figure size 640x480 with 1 Axes>"
      ]
     },
     "metadata": {},
     "output_type": "display_data"
    }
   ],
   "source": [
    "epochs = [i for i in range(1,33)]\n",
    "plt.plot(epochs,training_history.history['accuracy'],color='red')\n",
    "plt.xlabel('No. of Epochs')\n",
    "plt.ylabel('Traiining Accuracy')\n",
    "plt.title('Visualization of Training Accuracy Result')\n",
    "plt.show()"
   ]
  },
  {
   "cell_type": "markdown",
   "metadata": {
    "id": "2pX9gAL8T1hE"
   },
   "source": [
    "#Validation Accuracy"
   ]
  },
  {
   "cell_type": "code",
   "execution_count": 29,
   "metadata": {
    "colab": {
     "base_uri": "https://localhost:8080/",
     "height": 472
    },
    "executionInfo": {
     "elapsed": 1448,
     "status": "ok",
     "timestamp": 1705824657656,
     "user": {
      "displayName": "NITHIN GOUD",
      "userId": "14723641495836732083"
     },
     "user_tz": -330
    },
    "id": "wY6F21ahOcgj",
    "outputId": "e27fa028-a848-4211-b470-12c348d82242"
   },
   "outputs": [
    {
     "data": {
      "image/png": "[encoded data removed]",
      "text/plain": [
       "<Figure size 640x480 with 1 Axes>"
      ]
     },
     "metadata": {},
     "output_type": "display_data"
    }
   ],
   "source": [
    "plt.plot(epochs,training_history.history['val_accuracy'],color='blue')\n",
    "plt.xlabel(\"No of epochs\")\n",
    "plt.ylabel(\"Validation Accuracy\")\n",
    "plt.title(\"visualization of validation accuracy result\")\n",
    "plt.show()"
   ]
  },
  {
   "cell_type": "code",
   "execution_count": 30,
   "metadata": {
    "colab": {
     "base_uri": "https://localhost:8080/"
    },
    "executionInfo": {
     "elapsed": 142535,
     "status": "ok",
     "timestamp": 1705825190456,
     "user": {
      "displayName": "NITHIN GOUD",
      "userId": "14723641495836732083"
     },
     "user_tz": -330
    },
    "id": "PP_1VbDeSvWx",
    "outputId": "3b93d8f7-4218-4ad4-9d38-6b8aec2d6600"
   },
   "outputs": [
    {
     "name": "stdout",
     "output_type": "stream",
     "text": [
      "98/98 [==============================] - 112s 1s/step - loss: 0.6312 - accuracy: 0.8221\n"
     ]
    },
    {
     "data": {
      "text/plain": [
       "[0.6312403082847595, 0.8220800161361694]"
      ]
     },
     "execution_count": 30,
     "metadata": {},
     "output_type": "execute_result"
    }
   ],
   "source": [
    "cnn.evaluate(training_set)"
   ]
  },
  {
   "cell_type": "code",
   "execution_count": null,
   "metadata": {
    "id": "3I7NHU3SnR1w"
   },
   "outputs": [],
   "source": []
  }
 ],
 "metadata": {
  "colab": {
   "authorship_tag": "ABX9TyPhk5e78XB9eiRwflJgfsSQ",
   "provenance": []
  },
  "kernelspec": {
   "display_name": "Python 3 (ipykernel)",
   "language": "python",
   "name": "python3"
  },
  "language_info": {
   "codemirror_mode": {
    "name": "ipython",
    "version": 3
   },
   "file_extension": ".py",
   "mimetype": "text/x-python",
   "name": "python",
   "nbconvert_exporter": "python",
   "pygments_lexer": "ipython3",
   "version": "3.11.5"
  }
 },
 "nbformat": 4,
 "nbformat_minor": 4
}
